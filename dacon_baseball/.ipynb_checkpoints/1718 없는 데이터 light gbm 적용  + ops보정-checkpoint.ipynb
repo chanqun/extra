{
 "cells": [
  {
   "cell_type": "markdown",
   "metadata": {},
   "source": [
    "# 1718없는 데이터 예측"
   ]
  },
  {
   "cell_type": "code",
   "execution_count": 15,
   "metadata": {},
   "outputs": [],
   "source": [
    "import pandas as pd\n",
    "import numpy as np\n",
    "import os\n",
    "import matplotlib.pyplot as plt\n",
    "import seaborn as sns\n",
    "import warnings\n",
    "import lightgbm as lgb\n",
    "warnings.filterwarnings('ignore')\n",
    "from datetime import datetime\n",
    "os.chdir(\"C:\\\\Users\\\\chanqun\\\\Downloads\\\\ops\")"
   ]
  },
  {
   "cell_type": "code",
   "execution_count": 16,
   "metadata": {},
   "outputs": [],
   "source": [
    "regular=pd.read_csv(\"Regular_Season_Batter.csv\")\n",
    "del regular['team']\n",
    "del regular['career']"
   ]
  },
  {
   "cell_type": "code",
   "execution_count": 17,
   "metadata": {},
   "outputs": [],
   "source": [
    "agg={}\n",
    "for i in regular.columns:\n",
    "    agg[i]=[]\n",
    "for i in regular.loc[regular['year']<=2018, 'batter_name'].unique():\n",
    "    for j in regular.columns:\n",
    "        if j in ['batter_id','batter_name','height/weight','year_born','position','starting_salary']:\n",
    "            agg[j].append(regular.loc[regular['batter_name']==i,j].iloc[0])\n",
    "        elif j in ['avg', 'G', 'AB', 'R', 'H','2B', '3B', 'HR', 'TB', 'RBI', 'SB', 'CS', 'BB', 'HBP', 'SO', 'GDP','SLG', 'OBP', 'E', 'OPS']:\n",
    "            agg[j].append(0)\n",
    "        elif j == \"year\":\n",
    "            agg[j].append(2019)  \n",
    "        else:\n",
    "            agg[j].append(0)"
   ]
  },
  {
   "cell_type": "code",
   "execution_count": 18,
   "metadata": {},
   "outputs": [],
   "source": [
    "regular=pd.concat([regular,pd.DataFrame(agg,columns=regular.columns)])"
   ]
  },
  {
   "cell_type": "code",
   "execution_count": 19,
   "metadata": {},
   "outputs": [],
   "source": [
    "regular['1B']=regular['H']-regular['2B']-regular['3B']-regular['HR']"
   ]
  },
  {
   "cell_type": "code",
   "execution_count": 20,
   "metadata": {},
   "outputs": [
    {
     "name": "stdout",
     "output_type": "stream",
     "text": [
      "avg\n",
      "G\n",
      "AB\n",
      "R\n",
      "H\n",
      "2B\n",
      "3B\n",
      "HR\n",
      "TB\n",
      "RBI\n",
      "SB\n",
      "CS\n",
      "BB\n",
      "HBP\n",
      "SO\n",
      "GDP\n",
      "SLG\n",
      "OBP\n",
      "E\n"
     ]
    }
   ],
   "source": [
    "for j in ['avg', 'G', 'AB', 'R', 'H','2B', '3B', 'HR', 'TB', 'RBI', 'SB', 'CS', 'BB', 'HBP', 'SO', 'GDP','SLG', 'OBP', 'E']:\n",
    "    lag_1_avg=[]\n",
    "    for i in range(len(regular)): \n",
    "        if len(regular.loc[(regular['batter_name']==regular['batter_name'].iloc[i])&(regular['year']==regular['year'].iloc[i]-1)][j])==0:\n",
    "            lag_1_avg.append(np.nan)\n",
    "        else:\n",
    "            lag_1_avg.append(regular.loc[(regular['batter_name']==regular['batter_name'].iloc[i])&(regular['year']==regular['year'].iloc[i]-1)][j].iloc[0])\n",
    "    \n",
    "    regular['lag_1_'+j]=lag_1_avg\n",
    "    print(j)"
   ]
  },
  {
   "cell_type": "code",
   "execution_count": 21,
   "metadata": {},
   "outputs": [],
   "source": [
    "input_var=[x for x in regular.columns if ('lag_' in x)]"
   ]
  },
  {
   "cell_type": "code",
   "execution_count": 22,
   "metadata": {},
   "outputs": [],
   "source": [
    "train=regular.loc[regular['year']<=2018]\n",
    "train=train.loc[-train['OPS'].isnull()]  #null값이 아닌것만 집어 넣어\n",
    "test=regular.loc[regular['year']==2019]"
   ]
  },
  {
   "cell_type": "code",
   "execution_count": 23,
   "metadata": {},
   "outputs": [],
   "source": [
    "X=train[input_var]\n",
    "y=train['OPS']"
   ]
  },
  {
   "cell_type": "code",
   "execution_count": 24,
   "metadata": {},
   "outputs": [
    {
     "name": "stdout",
     "output_type": "stream",
     "text": [
      "Training until validation scores don't improve for 200 rounds.\n",
      "[100]\ttraining's rmse: 0.211687\n",
      "[200]\ttraining's rmse: 0.201695\n",
      "[300]\ttraining's rmse: 0.195083\n",
      "[400]\ttraining's rmse: 0.190763\n",
      "[500]\ttraining's rmse: 0.187649\n",
      "[600]\ttraining's rmse: 0.185374\n",
      "[700]\ttraining's rmse: 0.183478\n",
      "Did not meet early stopping. Best iteration is:\n",
      "[720]\ttraining's rmse: 0.183153\n"
     ]
    }
   ],
   "source": [
    "param = {'objective' : 'regression',\n",
    "         'num_leaves' : 150,\n",
    "         'learning_rate' : 0.05,\n",
    "         'n_estimators' : 720,\n",
    "         'max_bin' : 55, \n",
    "         'bagging_fraction' : 0.8,\n",
    "         'boosting' : 'gbdt',\n",
    "         'bagging_freq' : 5, \n",
    "         'feature_fraction' : 0.7519,\n",
    "         'feature_fraction_seed' : 12, \n",
    "         'bagging_seed' : 9,\n",
    "         'min_data_in_leaf' : 32, \n",
    "         'min_sum_hessian_in_leaf' : 11,\n",
    "         'metric' : 'rmse',\n",
    "         'random_state' : 804 }\n",
    "trn_data=lgb.Dataset(train[input_var], label=train[\"OPS\"])\n",
    "num_round = 800\n",
    "clf = lgb.train(param, trn_data, num_round , valid_sets=[trn_data],verbose_eval=100, early_stopping_rounds=200)\n",
    "predictions = clf.predict(test[input_var], num_iteration=clf.best_iteration)"
   ]
  },
  {
   "cell_type": "code",
   "execution_count": 25,
   "metadata": {},
   "outputs": [],
   "source": [
    "predictions = clf.predict(test[input_var], num_iteration=clf.best_iteration)"
   ]
  },
  {
   "cell_type": "code",
   "execution_count": 26,
   "metadata": {},
   "outputs": [],
   "source": [
    "sub=test[['batter_id','batter_name']]\n",
    "sub['ops']=predictions"
   ]
  },
  {
   "cell_type": "code",
   "execution_count": 27,
   "metadata": {},
   "outputs": [],
   "source": [
    "sub.to_csv('sub.csv',index=False)"
   ]
  },
  {
   "cell_type": "markdown",
   "metadata": {},
   "source": [
    "# 전반기 OPS Model"
   ]
  },
  {
   "cell_type": "code",
   "execution_count": 28,
   "metadata": {},
   "outputs": [],
   "source": [
    "df_daybyday = pd.read_csv('Regular_Season_Batter_Day_by_Day.csv')"
   ]
  },
  {
   "cell_type": "code",
   "execution_count": 29,
   "metadata": {},
   "outputs": [],
   "source": [
    "regular_all = df_daybyday[ df_daybyday['date'] <= 12.31 ]\n",
    "regular_half = df_daybyday[ df_daybyday['date'] <= 07.16 ]"
   ]
  },
  {
   "cell_type": "code",
   "execution_count": 30,
   "metadata": {},
   "outputs": [],
   "source": [
    "regular_all_s = regular_all.sum(axis = 0, skipna = True)\n",
    "regular_half_s = regular_half.sum(axis = 0, skipna = True)"
   ]
  },
  {
   "cell_type": "code",
   "execution_count": 31,
   "metadata": {},
   "outputs": [],
   "source": [
    "ops_all = ((regular_all_s['H']+regular_all_s['2B']+regular_all_s['3B']+regular_all_s['HR']+regular_all_s['BB']+regular_all_s['HBP'])/(regular_all_s['AB']+regular_all_s['BB']+regular_all_s['HBP']))+ ((regular_all_s['H']+2*regular_all_s['2B']+3*regular_all_s['3B']+4*regular_all_s['HR'])/(regular_all_s['AB']))"
   ]
  },
  {
   "cell_type": "code",
   "execution_count": 32,
   "metadata": {},
   "outputs": [],
   "source": [
    "ops_half = ((regular_half_s['H']+regular_half_s['2B']+regular_half_s['3B']+regular_half_s['HR']+regular_half_s['BB']+regular_half_s['HBP'])/(regular_half_s['AB']+regular_half_s['BB']+regular_half_s['HBP']))+ ((regular_half_s['H']+2*regular_half_s['2B']+3*regular_half_s['3B']+4*regular_half_s['HR'])/(regular_half_s['AB']))"
   ]
  },
  {
   "cell_type": "code",
   "execution_count": 33,
   "metadata": {},
   "outputs": [],
   "source": [
    "ops_coefficient = (ops_half)/(ops_all)"
   ]
  },
  {
   "cell_type": "code",
   "execution_count": 35,
   "metadata": {},
   "outputs": [
    {
     "data": {
      "text/plain": [
       "0.9979257702577301"
      ]
     },
     "execution_count": 35,
     "metadata": {},
     "output_type": "execute_result"
    }
   ],
   "source": [
    "ops_coefficient"
   ]
  },
  {
   "cell_type": "code",
   "execution_count": null,
   "metadata": {},
   "outputs": [],
   "source": []
  }
 ],
 "metadata": {
  "kernelspec": {
   "display_name": "Python 3",
   "language": "python",
   "name": "python3"
  },
  "language_info": {
   "codemirror_mode": {
    "name": "ipython",
    "version": 3
   },
   "file_extension": ".py",
   "mimetype": "text/x-python",
   "name": "python",
   "nbconvert_exporter": "python",
   "pygments_lexer": "ipython3",
   "version": "3.7.1"
  }
 },
 "nbformat": 4,
 "nbformat_minor": 2
}
