{
 "cells": [
  {
   "cell_type": "code",
   "execution_count": 1,
   "metadata": {},
   "outputs": [],
   "source": [
    "import pandas as pd\n",
    "import numpy as np\n",
    "import matplotlib.pyplot as plt\n",
    "import lightgbm as lgb\n",
    "import os\n",
    "import matplotlib.pyplot as plt\n",
    "import seaborn as sns\n",
    "import warnings\n",
    "warnings.filterwarnings('ignore')\n",
    "from datetime import datetime"
   ]
  },
  {
   "cell_type": "markdown",
   "metadata": {},
   "source": [
    "# 데이터 전처리"
   ]
  },
  {
   "cell_type": "code",
   "execution_count": 66,
   "metadata": {},
   "outputs": [],
   "source": [
    "df_regular = pd.read_csv(\"Regular_Season_Batter.csv\")"
   ]
  },
  {
   "cell_type": "code",
   "execution_count": 67,
   "metadata": {},
   "outputs": [],
   "source": [
    "# 필요없는 열 제거\n",
    "del df_regular['team']\n",
    "del df_regular['height/weight']\n",
    "del df_regular['year_born']\n",
    "del df_regular['position']\n",
    "del df_regular['career']\n",
    "del df_regular['starting_salary']"
   ]
  },
  {
   "cell_type": "code",
   "execution_count": 68,
   "metadata": {},
   "outputs": [],
   "source": [
    "# 시즌 별 기록\n",
    "df_16 = df_regular[df_regular['year'] == 2016]\n",
    "df_17 = df_regular[df_regular['year'] == 2017]\n",
    "df_18 = df_regular[df_regular['year'] == 2018]"
   ]
  },
  {
   "cell_type": "code",
   "execution_count": 69,
   "metadata": {},
   "outputs": [],
   "source": [
    "df_regular_batter = df_regular['batter_name'].unique().tolist()"
   ]
  },
  {
   "cell_type": "code",
   "execution_count": 70,
   "metadata": {},
   "outputs": [],
   "source": [
    "df_17_batter = df_17['batter_name'].unique().tolist()"
   ]
  },
  {
   "cell_type": "code",
   "execution_count": 71,
   "metadata": {},
   "outputs": [],
   "source": [
    "df_18_batter = df_18['batter_name'].unique().tolist()"
   ]
  },
  {
   "cell_type": "code",
   "execution_count": 72,
   "metadata": {},
   "outputs": [],
   "source": [
    "# 1718년 기록 보유자, 18년 기록만 보유자, 17년 기록만 보유자, 둘다 없는 보유자로 나눔\n",
    "only17 = []\n",
    "only18 = []\n",
    "both1718 = []\n",
    "Neither = []\n",
    "\n",
    "for i in range(len(df_regular_batter)) :\n",
    "    if df_regular_batter[i] in df_17_batter and df_regular_batter[i] in df_18_batter :\n",
    "        both1718.append(df_regular_batter[i])\n",
    "    elif df_regular_batter[i] in df_17_batter and df_regular_batter[i] not in df_18_batter :\n",
    "        only17.append(df_regular_batter[i])\n",
    "    elif df_regular_batter[i] in df_18_batter and df_regular_batter[i] not in df_17_batter :\n",
    "        only18.append(df_regular_batter[i])\n",
    "    else :\n",
    "        Neither.append(df_regular_batter[i])"
   ]
  },
  {
   "cell_type": "code",
   "execution_count": 73,
   "metadata": {},
   "outputs": [
    {
     "data": {
      "text/plain": [
       "True"
      ]
     },
     "execution_count": 73,
     "metadata": {},
     "output_type": "execute_result"
    }
   ],
   "source": [
    "len(both1718)+len(only17)+len(only18)+len(Neither) == len(df_regular_batter)"
   ]
  },
  {
   "cell_type": "code",
   "execution_count": 74,
   "metadata": {
    "scrolled": true
   },
   "outputs": [
    {
     "data": {
      "text/plain": [
       "(185, 32, 42, 86)"
      ]
     },
     "execution_count": 74,
     "metadata": {},
     "output_type": "execute_result"
    }
   ],
   "source": [
    "len(both1718), len(only17), len(only18), len(Neither)"
   ]
  },
  {
   "cell_type": "code",
   "execution_count": 75,
   "metadata": {
    "scrolled": true
   },
   "outputs": [
    {
     "data": {
      "text/plain": [
       "(batter_id      0\n",
       " batter_name    0\n",
       " year           0\n",
       " avg            1\n",
       " G              0\n",
       " AB             0\n",
       " R              0\n",
       " H              0\n",
       " 2B             0\n",
       " 3B             0\n",
       " HR             0\n",
       " TB             0\n",
       " RBI            0\n",
       " SB             0\n",
       " CS             0\n",
       " BB             0\n",
       " HBP            0\n",
       " SO             0\n",
       " GDP            0\n",
       " SLG            1\n",
       " OBP            1\n",
       " E              0\n",
       " OPS            1\n",
       " dtype: int64, batter_id      0\n",
       " batter_name    0\n",
       " year           0\n",
       " avg            1\n",
       " G              0\n",
       " AB             0\n",
       " R              0\n",
       " H              0\n",
       " 2B             0\n",
       " 3B             0\n",
       " HR             0\n",
       " TB             0\n",
       " RBI            0\n",
       " SB             0\n",
       " CS             0\n",
       " BB             0\n",
       " HBP            0\n",
       " SO             0\n",
       " GDP            0\n",
       " SLG            1\n",
       " OBP            0\n",
       " E              0\n",
       " OPS            1\n",
       " dtype: int64)"
      ]
     },
     "execution_count": 75,
     "metadata": {},
     "output_type": "execute_result"
    }
   ],
   "source": [
    "# Nan 값 확인\n",
    "df_17.isnull().sum(), df_18.isnull().sum()"
   ]
  },
  {
   "cell_type": "code",
   "execution_count": 76,
   "metadata": {
    "scrolled": true
   },
   "outputs": [
    {
     "name": "stderr",
     "output_type": "stream",
     "text": [
      "C:\\Users\\Jihyun\\Anaconda3\\lib\\site-packages\\ipykernel_launcher.py:2: SettingWithCopyWarning: \n",
      "A value is trying to be set on a copy of a slice from a DataFrame.\n",
      "Try using .loc[row_indexer,col_indexer] = value instead\n",
      "\n",
      "See the caveats in the documentation: http://pandas.pydata.org/pandas-docs/stable/indexing.html#indexing-view-versus-copy\n",
      "  \n",
      "C:\\Users\\Jihyun\\Anaconda3\\lib\\site-packages\\ipykernel_launcher.py:3: SettingWithCopyWarning: \n",
      "A value is trying to be set on a copy of a slice from a DataFrame.\n",
      "Try using .loc[row_indexer,col_indexer] = value instead\n",
      "\n",
      "See the caveats in the documentation: http://pandas.pydata.org/pandas-docs/stable/indexing.html#indexing-view-versus-copy\n",
      "  This is separate from the ipykernel package so we can avoid doing imports until\n",
      "C:\\Users\\Jihyun\\Anaconda3\\lib\\site-packages\\ipykernel_launcher.py:4: SettingWithCopyWarning: \n",
      "A value is trying to be set on a copy of a slice from a DataFrame.\n",
      "Try using .loc[row_indexer,col_indexer] = value instead\n",
      "\n",
      "See the caveats in the documentation: http://pandas.pydata.org/pandas-docs/stable/indexing.html#indexing-view-versus-copy\n",
      "  after removing the cwd from sys.path.\n",
      "C:\\Users\\Jihyun\\Anaconda3\\lib\\site-packages\\ipykernel_launcher.py:5: SettingWithCopyWarning: \n",
      "A value is trying to be set on a copy of a slice from a DataFrame.\n",
      "Try using .loc[row_indexer,col_indexer] = value instead\n",
      "\n",
      "See the caveats in the documentation: http://pandas.pydata.org/pandas-docs/stable/indexing.html#indexing-view-versus-copy\n",
      "  \"\"\"\n",
      "C:\\Users\\Jihyun\\Anaconda3\\lib\\site-packages\\ipykernel_launcher.py:6: SettingWithCopyWarning: \n",
      "A value is trying to be set on a copy of a slice from a DataFrame.\n",
      "Try using .loc[row_indexer,col_indexer] = value instead\n",
      "\n",
      "See the caveats in the documentation: http://pandas.pydata.org/pandas-docs/stable/indexing.html#indexing-view-versus-copy\n",
      "  \n",
      "C:\\Users\\Jihyun\\Anaconda3\\lib\\site-packages\\ipykernel_launcher.py:7: SettingWithCopyWarning: \n",
      "A value is trying to be set on a copy of a slice from a DataFrame.\n",
      "Try using .loc[row_indexer,col_indexer] = value instead\n",
      "\n",
      "See the caveats in the documentation: http://pandas.pydata.org/pandas-docs/stable/indexing.html#indexing-view-versus-copy\n",
      "  import sys\n",
      "C:\\Users\\Jihyun\\Anaconda3\\lib\\site-packages\\ipykernel_launcher.py:8: SettingWithCopyWarning: \n",
      "A value is trying to be set on a copy of a slice from a DataFrame.\n",
      "Try using .loc[row_indexer,col_indexer] = value instead\n",
      "\n",
      "See the caveats in the documentation: http://pandas.pydata.org/pandas-docs/stable/indexing.html#indexing-view-versus-copy\n",
      "  \n"
     ]
    }
   ],
   "source": [
    "# Nan 값을 평균으로 대체\n",
    "df_17['avg'] = df_17['avg'].fillna(np.mean(df_17['avg']))\n",
    "df_17['SLG'] = df_17['SLG'].fillna(np.mean(df_17['SLG']))\n",
    "df_17['OBP'] = df_17['OBP'].fillna(np.mean(df_17['OBP']))\n",
    "df_17['OPS'] = df_17['OPS'].fillna(np.mean(df_17['OPS']))\n",
    "df_18['avg'] = df_18['avg'].fillna(np.mean(df_18['avg']))\n",
    "df_18['SLG'] = df_18['SLG'].fillna(np.mean(df_18['SLG']))\n",
    "df_18['OPS'] = df_18['OPS'].fillna(np.mean(df_18['OPS']))"
   ]
  },
  {
   "cell_type": "code",
   "execution_count": 77,
   "metadata": {
    "scrolled": true
   },
   "outputs": [
    {
     "data": {
      "text/plain": [
       "(batter_id      0\n",
       " batter_name    0\n",
       " year           0\n",
       " avg            0\n",
       " G              0\n",
       " AB             0\n",
       " R              0\n",
       " H              0\n",
       " 2B             0\n",
       " 3B             0\n",
       " HR             0\n",
       " TB             0\n",
       " RBI            0\n",
       " SB             0\n",
       " CS             0\n",
       " BB             0\n",
       " HBP            0\n",
       " SO             0\n",
       " GDP            0\n",
       " SLG            0\n",
       " OBP            0\n",
       " E              0\n",
       " OPS            0\n",
       " dtype: int64, batter_id      0\n",
       " batter_name    0\n",
       " year           0\n",
       " avg            0\n",
       " G              0\n",
       " AB             0\n",
       " R              0\n",
       " H              0\n",
       " 2B             0\n",
       " 3B             0\n",
       " HR             0\n",
       " TB             0\n",
       " RBI            0\n",
       " SB             0\n",
       " CS             0\n",
       " BB             0\n",
       " HBP            0\n",
       " SO             0\n",
       " GDP            0\n",
       " SLG            0\n",
       " OBP            0\n",
       " E              0\n",
       " OPS            0\n",
       " dtype: int64)"
      ]
     },
     "execution_count": 77,
     "metadata": {},
     "output_type": "execute_result"
    }
   ],
   "source": [
    "df_17.isnull().sum(), df_18.isnull().sum()"
   ]
  },
  {
   "cell_type": "code",
   "execution_count": 78,
   "metadata": {},
   "outputs": [
    {
     "data": {
      "text/plain": [
       "185"
      ]
     },
     "execution_count": 78,
     "metadata": {},
     "output_type": "execute_result"
    }
   ],
   "source": [
    "# 17년 18년 기록 보유자\n",
    "df_1718 = pd.merge(df_17, df_18, on = 'batter_name', how = 'inner')\n",
    "len(df_1718)"
   ]
  },
  {
   "cell_type": "markdown",
   "metadata": {},
   "source": [
    "# 1번 모델 생성\n",
    "#### 전년도와 전전년도 데이터로 올해 결과 예측"
   ]
  },
  {
   "cell_type": "code",
   "execution_count": 79,
   "metadata": {},
   "outputs": [],
   "source": [
    "df_1617 = pd.merge(df_16, df_17, on = 'batter_name', how = 'inner')"
   ]
  },
  {
   "cell_type": "code",
   "execution_count": 80,
   "metadata": {},
   "outputs": [],
   "source": [
    "df_161718 = pd.merge(df_1617, df_18, on = 'batter_name', how = 'inner')"
   ]
  },
  {
   "cell_type": "code",
   "execution_count": 81,
   "metadata": {},
   "outputs": [],
   "source": [
    "df_161718 = df_161718.dropna(axis=0)"
   ]
  },
  {
   "cell_type": "code",
   "execution_count": 82,
   "metadata": {},
   "outputs": [],
   "source": [
    "X_train = df_161718[['avg_x', 'G_x', 'AB_x', 'R_x', 'H_x', '2B_x', '3B_x', 'HR_x',\n",
    "                     'TB_x', 'RBI_x', 'SB_x', 'CS_x', 'BB_x', 'HBP_x', 'SO_x', 'GDP_x',\n",
    "                     'SLG_x', 'OBP_x', 'E_x', 'OPS_x', 'avg_y', 'G_y', 'AB_y', 'R_y',\n",
    "                     'H_y', '2B_y', '3B_y', 'HR_y', 'TB_y', 'RBI_y', 'SB_y', 'CS_y',\n",
    "                     'BB_y', 'HBP_y', 'SO_y', 'GDP_y', 'SLG_y', 'OBP_y', 'E_y']]\n",
    "y_train = df_161718['OPS']\n",
    "X_train = X_train.values\n",
    "y_train = y_train.values"
   ]
  },
  {
   "cell_type": "code",
   "execution_count": 83,
   "metadata": {},
   "outputs": [
    {
     "data": {
      "text/plain": [
       "array([[0.774     ],\n",
       "       [0.6       ],\n",
       "       [0.788     ],\n",
       "       [0.689     ],\n",
       "       [0.612     ],\n",
       "       [0.709     ],\n",
       "       [0.925     ],\n",
       "       [0.887     ],\n",
       "       [0.        ],\n",
       "       [0.766     ],\n",
       "       [0.906     ],\n",
       "       [0.334     ],\n",
       "       [0.765     ],\n",
       "       [0.258     ],\n",
       "       [0.543     ],\n",
       "       [0.716     ],\n",
       "       [0.765     ],\n",
       "       [0.685     ],\n",
       "       [0.        ],\n",
       "       [0.52      ],\n",
       "       [0.676     ],\n",
       "       [0.747     ],\n",
       "       [0.753     ],\n",
       "       [0.693     ],\n",
       "       [0.543     ],\n",
       "       [0.711     ],\n",
       "       [0.87      ],\n",
       "       [1.062     ],\n",
       "       [0.895     ],\n",
       "       [0.25      ],\n",
       "       [0.403     ],\n",
       "       [0.407     ],\n",
       "       [0.834     ],\n",
       "       [0.543     ],\n",
       "       [0.832     ],\n",
       "       [0.823     ],\n",
       "       [0.698     ],\n",
       "       [0.899     ],\n",
       "       [0.767     ],\n",
       "       [0.951     ],\n",
       "       [0.364     ],\n",
       "       [0.814     ],\n",
       "       [0.671     ],\n",
       "       [0.683     ],\n",
       "       [0.826     ],\n",
       "       [0.708     ],\n",
       "       [0.855     ],\n",
       "       [0.846     ],\n",
       "       [0.826     ],\n",
       "       [0.436     ],\n",
       "       [0.538     ],\n",
       "       [0.729     ],\n",
       "       [0.821     ],\n",
       "       [0.816     ],\n",
       "       [0.762     ],\n",
       "       [0.77      ],\n",
       "       [0.828     ],\n",
       "       [0.605     ],\n",
       "       [0.368     ],\n",
       "       [0.781     ],\n",
       "       [0.792     ],\n",
       "       [0.412     ],\n",
       "       [0.617     ],\n",
       "       [1.125     ],\n",
       "       [0.691     ],\n",
       "       [0.728     ],\n",
       "       [0.825     ],\n",
       "       [0.551     ],\n",
       "       [0.77      ],\n",
       "       [0.561     ],\n",
       "       [0.95      ],\n",
       "       [0.603     ],\n",
       "       [0.805     ],\n",
       "       [0.799     ],\n",
       "       [0.514     ],\n",
       "       [0.675     ],\n",
       "       [0.523     ],\n",
       "       [0.955     ],\n",
       "       [0.758     ],\n",
       "       [0.66      ],\n",
       "       [1.012     ],\n",
       "       [0.568     ],\n",
       "       [0.832     ],\n",
       "       [0.912     ],\n",
       "       [0.        ],\n",
       "       [0.75      ],\n",
       "       [0.731     ],\n",
       "       [0.86      ],\n",
       "       [0.904     ],\n",
       "       [1.192     ],\n",
       "       [0.939     ],\n",
       "       [0.462     ],\n",
       "       [0.785     ],\n",
       "       [0.527     ],\n",
       "       [0.6       ],\n",
       "       [0.        ],\n",
       "       [0.626     ],\n",
       "       [0.781     ],\n",
       "       [0.848     ],\n",
       "       [0.551     ],\n",
       "       [0.9       ],\n",
       "       [0.575     ],\n",
       "       [0.572     ],\n",
       "       [0.25      ],\n",
       "       [0.711     ],\n",
       "       [0.648     ],\n",
       "       [0.867     ],\n",
       "       [0.919     ],\n",
       "       [0.488     ],\n",
       "       [0.563     ],\n",
       "       [0.839     ],\n",
       "       [0.787     ],\n",
       "       [0.842     ],\n",
       "       [0.82      ],\n",
       "       [0.655     ],\n",
       "       [0.844     ],\n",
       "       [0.795     ],\n",
       "       [0.593     ],\n",
       "       [0.72      ],\n",
       "       [0.992     ],\n",
       "       [0.838     ],\n",
       "       [0.539     ],\n",
       "       [0.59      ],\n",
       "       [0.787     ],\n",
       "       [0.8       ],\n",
       "       [0.704     ],\n",
       "       [0.723     ],\n",
       "       [0.855     ],\n",
       "       [0.683     ],\n",
       "       [0.568     ],\n",
       "       [0.472     ],\n",
       "       [0.927     ],\n",
       "       [0.816     ],\n",
       "       [0.774     ],\n",
       "       [0.688     ],\n",
       "       [0.67759292],\n",
       "       [0.666     ],\n",
       "       [0.915     ],\n",
       "       [0.668     ],\n",
       "       [0.979     ],\n",
       "       [0.705     ],\n",
       "       [0.695     ],\n",
       "       [0.963     ],\n",
       "       [0.664     ],\n",
       "       [0.454     ],\n",
       "       [0.968     ],\n",
       "       [0.732     ],\n",
       "       [0.835     ],\n",
       "       [0.742     ],\n",
       "       [0.715     ],\n",
       "       [0.375     ],\n",
       "       [0.564     ]])"
      ]
     },
     "execution_count": 83,
     "metadata": {},
     "output_type": "execute_result"
    }
   ],
   "source": [
    "y_train.reshape(-1, 1)"
   ]
  },
  {
   "cell_type": "code",
   "execution_count": 84,
   "metadata": {},
   "outputs": [
    {
     "data": {
      "text/plain": [
       "LGBMRegressor(bagging_fraction=0.8, bagging_freq=5, bagging_seed=9,\n",
       "       boosting_type='gbdt', class_weight=None, colsample_bytree=1.0,\n",
       "       feature_fraction=0.2319, feature_fraction_seed=9,\n",
       "       importance_type='split', learning_rate=0.05, max_bin=55,\n",
       "       max_depth=-1, min_child_samples=20, min_child_weight=0.001,\n",
       "       min_data_in_leaf=6, min_split_gain=0.0, min_sum_hessian_in_leaf=11,\n",
       "       n_estimators=720, n_jobs=-1, num_leaves=150, objective='regression',\n",
       "       random_state=None, reg_alpha=0.0, reg_lambda=0.0, silent=True,\n",
       "       subsample=1.0, subsample_for_bin=200000, subsample_freq=0)"
      ]
     },
     "execution_count": 84,
     "metadata": {},
     "output_type": "execute_result"
    }
   ],
   "source": [
    "model_lgb = lgb.LGBMRegressor(objective = 'regression', num_leaves = 150,\n",
    "                             learning_rate = 0.05, n_estimators = 720,\n",
    "                             max_bin = 55, bagging_fraction = 0.8,\n",
    "                             bagging_freq = 5, feature_fraction = 0.2319,\n",
    "                             feature_fraction_seed = 9, bagging_seed = 9,\n",
    "                             min_data_in_leaf = 6, min_sum_hessian_in_leaf = 11)\n",
    "\n",
    "model_lgb.fit(X_train, y_train)"
   ]
  },
  {
   "cell_type": "markdown",
   "metadata": {},
   "source": [
    "### 1번 모델과 17년, 18년 데이터로 19년 결과 예측"
   ]
  },
  {
   "cell_type": "code",
   "execution_count": 85,
   "metadata": {},
   "outputs": [],
   "source": [
    "X_test = df_1718[['avg_x', 'G_x', 'AB_x', 'R_x', 'H_x', '2B_x', '3B_x', 'HR_x',\n",
    "                    'TB_x', 'RBI_x', 'SB_x', 'CS_x', 'BB_x', 'HBP_x', 'SO_x', 'GDP_x',\n",
    "                    'SLG_x', 'OBP_x', 'E_x', 'OPS_x', 'avg_y', 'G_y', 'AB_y', 'R_y',\n",
    "                    'H_y', '2B_y', '3B_y', 'HR_y', 'TB_y', 'RBI_y', 'SB_y', 'CS_y',\n",
    "                    'BB_y', 'HBP_y', 'SO_y', 'GDP_y', 'SLG_y', 'OBP_y', 'E_y']]"
   ]
  },
  {
   "cell_type": "code",
   "execution_count": 86,
   "metadata": {
    "scrolled": true
   },
   "outputs": [],
   "source": [
    "result1718 = model_lgb.predict(X_test)"
   ]
  },
  {
   "cell_type": "markdown",
   "metadata": {},
   "source": [
    "# 2번 모델 생성\n",
    "#### 전년도 데이터로 올해 결과를 예측"
   ]
  },
  {
   "cell_type": "code",
   "execution_count": 87,
   "metadata": {},
   "outputs": [],
   "source": [
    "X_train2 = df_1718[['avg_x', 'G_x', 'AB_x', 'R_x','H_x', '2B_x', '3B_x', 'HR_x', 'TB_x', 'RBI_x', 'SB_x', 'CS_x',\n",
    "                    'BB_x','HBP_x', 'SO_x', 'GDP_x', 'SLG_x', 'OBP_x', 'E_x', 'OPS_x']]\n",
    "y_train2 = df_1718['OPS_y']"
   ]
  },
  {
   "cell_type": "code",
   "execution_count": 88,
   "metadata": {},
   "outputs": [],
   "source": [
    "X_train2 = X_train2.values\n",
    "y_train2 = y_train2.values"
   ]
  },
  {
   "cell_type": "code",
   "execution_count": 89,
   "metadata": {},
   "outputs": [],
   "source": [
    "y_train2 = y_train2.reshape(-1, 1)"
   ]
  },
  {
   "cell_type": "code",
   "execution_count": 90,
   "metadata": {
    "scrolled": true
   },
   "outputs": [
    {
     "data": {
      "text/plain": [
       "LinearRegression(copy_X=True, fit_intercept=True, n_jobs=8, normalize=False)"
      ]
     },
     "execution_count": 90,
     "metadata": {},
     "output_type": "execute_result"
    }
   ],
   "source": [
    "from sklearn import  linear_model\n",
    "\n",
    "regr = linear_model.LinearRegression(fit_intercept=True, \n",
    "                                     normalize=False,    \n",
    "                                     copy_X=True,       \n",
    "                                     n_jobs=8)           \n",
    "regr.fit(X_train2, y_train2)\n",
    "regr"
   ]
  },
  {
   "cell_type": "markdown",
   "metadata": {},
   "source": [
    "### 2번 모델과 18년 데이터로 19년 결과 예측"
   ]
  },
  {
   "cell_type": "code",
   "execution_count": 91,
   "metadata": {},
   "outputs": [],
   "source": [
    "df_18.reset_index(inplace=True, drop=True)"
   ]
  },
  {
   "cell_type": "code",
   "execution_count": 92,
   "metadata": {},
   "outputs": [],
   "source": [
    "for i in range(len(df_18)) :\n",
    "    if df_18['batter_name'][i] not in only18 :\n",
    "        df_18 = df_18.drop(i, 0)"
   ]
  },
  {
   "cell_type": "code",
   "execution_count": 93,
   "metadata": {},
   "outputs": [],
   "source": [
    "X_test2 = df_18[['avg', 'G', 'AB', 'R','H', '2B', '3B', 'HR', 'TB', 'RBI', 'SB', 'CS',\n",
    "                 'BB','HBP', 'SO', 'GDP', 'SLG', 'OBP', 'E', 'OPS']]"
   ]
  },
  {
   "cell_type": "code",
   "execution_count": 94,
   "metadata": {},
   "outputs": [],
   "source": [
    "result18 = regr.predict(X_test2)"
   ]
  },
  {
   "cell_type": "markdown",
   "metadata": {},
   "source": [
    "### 2번 모델과 17년 데이터로 19년 예측"
   ]
  },
  {
   "cell_type": "code",
   "execution_count": 95,
   "metadata": {},
   "outputs": [],
   "source": [
    "df_17.reset_index(inplace=True, drop=True)"
   ]
  },
  {
   "cell_type": "code",
   "execution_count": 96,
   "metadata": {},
   "outputs": [],
   "source": [
    "for i in range(len(df_17)) :\n",
    "    if df_17['batter_name'][i] not in only17 :\n",
    "        df_17 = df_17.drop(i, 0)"
   ]
  },
  {
   "cell_type": "code",
   "execution_count": 97,
   "metadata": {},
   "outputs": [],
   "source": [
    "X_test3 =  df_17[['avg', 'G', 'AB', 'R','H', '2B', '3B', 'HR', 'TB', 'RBI', 'SB', 'CS',\n",
    "                 'BB','HBP', 'SO', 'GDP', 'SLG', 'OBP', 'E', 'OPS']]"
   ]
  },
  {
   "cell_type": "code",
   "execution_count": 98,
   "metadata": {},
   "outputs": [],
   "source": [
    "result17 = regr.predict(X_test3)"
   ]
  },
  {
   "cell_type": "markdown",
   "metadata": {},
   "source": [
    "# New DataFrame 생성"
   ]
  },
  {
   "cell_type": "code",
   "execution_count": 99,
   "metadata": {
    "scrolled": true
   },
   "outputs": [],
   "source": [
    "df_A = pd.DataFrame({'batter_id' : df_1718['batter_id_x'],\n",
    "                    'batter_name' : df_1718['batter_name'],\n",
    "                    'OPS' : result1718})"
   ]
  },
  {
   "cell_type": "code",
   "execution_count": 100,
   "metadata": {},
   "outputs": [],
   "source": [
    "df_18['OPS'] = result18"
   ]
  },
  {
   "cell_type": "code",
   "execution_count": 101,
   "metadata": {
    "scrolled": true
   },
   "outputs": [],
   "source": [
    "df_18 = df_18[['batter_id', 'batter_name', 'OPS']]"
   ]
  },
  {
   "cell_type": "code",
   "execution_count": 102,
   "metadata": {},
   "outputs": [],
   "source": [
    "df_17['OPS'] = result17"
   ]
  },
  {
   "cell_type": "code",
   "execution_count": 104,
   "metadata": {
    "scrolled": true
   },
   "outputs": [],
   "source": [
    "df_17 = df_17[['batter_id', 'batter_name', 'OPS']]"
   ]
  },
  {
   "cell_type": "code",
   "execution_count": 105,
   "metadata": {},
   "outputs": [],
   "source": [
    "df_sub = pd.read_csv(\"sub.csv\")"
   ]
  },
  {
   "cell_type": "code",
   "execution_count": 106,
   "metadata": {},
   "outputs": [],
   "source": [
    "for i in range(len(df_sub)) :\n",
    "    if df_sub['batter_name'][i] not in Neither :\n",
    "        df_sub = df_sub.drop(i, 0)"
   ]
  },
  {
   "cell_type": "code",
   "execution_count": 108,
   "metadata": {
    "scrolled": true
   },
   "outputs": [],
   "source": [
    "df_sub.columns = ['batter_id', 'batter_name', 'OPS']"
   ]
  },
  {
   "cell_type": "code",
   "execution_count": 113,
   "metadata": {},
   "outputs": [],
   "source": [
    "df_submission = pd.concat([df_A, df_17, df_18, df_sub])"
   ]
  },
  {
   "cell_type": "code",
   "execution_count": 114,
   "metadata": {
    "scrolled": true
   },
   "outputs": [],
   "source": [
    "df_submission = df_submission.sort_values(['batter_id'])\n",
    "df_submission.set_index('batter_id', inplace=True)"
   ]
  },
  {
   "cell_type": "code",
   "execution_count": 115,
   "metadata": {},
   "outputs": [],
   "source": [
    "# 전반기 OPS와 최종 OPS의 평균 비율\n",
    "df_submission['OPS'] = df_submission['OPS'] * 0.9979257702577301"
   ]
  },
  {
   "cell_type": "code",
   "execution_count": 2,
   "metadata": {},
   "outputs": [
    {
     "ename": "NameError",
     "evalue": "name 'df_submission' is not defined",
     "output_type": "error",
     "traceback": [
      "\u001b[1;31m---------------------------------------------------------------------------\u001b[0m",
      "\u001b[1;31mNameError\u001b[0m                                 Traceback (most recent call last)",
      "\u001b[1;32m<ipython-input-2-f2b416cd92a2>\u001b[0m in \u001b[0;36m<module>\u001b[1;34m\u001b[0m\n\u001b[0;32m      1\u001b[0m \u001b[1;31m# 저장\u001b[0m\u001b[1;33m\u001b[0m\u001b[1;33m\u001b[0m\u001b[1;33m\u001b[0m\u001b[0m\n\u001b[1;32m----> 2\u001b[1;33m \u001b[0mdf_submission\u001b[0m\u001b[1;33m.\u001b[0m\u001b[0mto_csv\u001b[0m\u001b[1;33m(\u001b[0m\u001b[1;34m'submission_1.csv'\u001b[0m\u001b[1;33m)\u001b[0m\u001b[1;33m\u001b[0m\u001b[1;33m\u001b[0m\u001b[0m\n\u001b[0m",
      "\u001b[1;31mNameError\u001b[0m: name 'df_submission' is not defined"
     ]
    }
   ],
   "source": [
    "# 저장\n",
    "df_submission.to_csv('submission_1.csv')"
   ]
  },
  {
   "cell_type": "code",
   "execution_count": null,
   "metadata": {},
   "outputs": [],
   "source": []
  }
 ],
 "metadata": {
  "kernelspec": {
   "display_name": "Python 3",
   "language": "python",
   "name": "python3"
  },
  "language_info": {
   "codemirror_mode": {
    "name": "ipython",
    "version": 3
   },
   "file_extension": ".py",
   "mimetype": "text/x-python",
   "name": "python",
   "nbconvert_exporter": "python",
   "pygments_lexer": "ipython3",
   "version": "3.7.1"
  }
 },
 "nbformat": 4,
 "nbformat_minor": 2
}
